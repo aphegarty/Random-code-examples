{
 "cells": [
  {
   "cell_type": "markdown",
   "metadata": {},
   "source": [
    "# Legiscan Script (unusable without your own API key)\n",
    "##### Using Legiscan.com API\n",
    "## Create list of bills about a topic of your choice\n",
    "#### -This script customized for bills about MeToo\n",
    "##### -----creates field for when bill was last acted on in relation to the NYT story about Weinstein in Oct. 2017\n",
    "##### -----current implentation adds _NEW to bills added to the list during the search (which need to be replaced manually) \n",
    "#### -Use multiple queries without getting overlap\n",
    "#### -Gives option to review the bills for match as they are written to the spreadsheet\n",
    "#### -Keeps bill progress up to date if fount in a search"
   ]
  },
  {
   "cell_type": "markdown",
   "metadata": {},
   "source": [
    "## By Aaron Hegarty, USAT intern summer 2018\n",
    "### (402) 317-2702\n",
    "### aphegarty@huskers.unl.edu"
   ]
  },
  {
   "cell_type": "markdown",
   "metadata": {},
   "source": [
    "## Step by step instructions\n",
    "\n",
    "### To begin\n",
    "#### >From your excel file, save as a new file - a csv. Do not save over your excel file.\n",
    "#### >Make sure you have master_list.csv in the same folder as this .ipynb file.\n",
    "#### >master_list.csv must be a CSV, not an excel file, such as .xlsx\n",
    "#### Run all above from 'GO BLOCK' below\n",
    "____________________________________________________________\n",
    "### To run a search\n",
    "#### >Run all below from 'GO BLOCK' below\n",
    "#### >Follow the prompts as you go.\n",
    "____________________________________________________________\n",
    "### When done\n",
    "#### >Go to master_list.csv and copy and paste all rows who have a value of _NEW or TODO\n",
    "#### > When copied over, replace all _NEW with nothing if you choose to run updates again\n",
    "____________________________________________________________\n",
    "### If you run into an 'encoding' error\n",
    "#### >God help you if you do this is annoying\n",
    "#### >this is why a copy is automatically made\n",
    "#### >Note the master_list file likely has to be replaced with the most recent file if the error occured after adding the bills, but the master_list likely has at least the information you worked on. Keep this and clean it up\n",
    "#### >make sure csv file in encoded in UTF-8. Open master_list.csv in a program and convert to UTF-8. On a PC, this is easy to do in Notepad++.\n",
    "_____________________________________________________________\n",
    "### To update all bills\n",
    "#### >See update_all script"
   ]
  },
  {
   "cell_type": "code",
   "execution_count": null,
   "metadata": {},
   "outputs": [],
   "source": [
    "#imports \n",
    "import urllib.parse #make query in url form\n",
    "import requests\n",
    "import csv\n",
    "import pandas as pd #reads in csv, makes lists of existing bills, and helps identify bills that need to be updated\n",
    "import datetime\n",
    "from shutil import copyfile #copy file in case of disastor"
   ]
  },
  {
   "cell_type": "markdown",
   "metadata": {},
   "source": [
    "### Functions used"
   ]
  },
  {
   "cell_type": "code",
   "execution_count": null,
   "metadata": {},
   "outputs": [],
   "source": [
    "#runs a request using the API to get for information about the bill. Returns a list to be used to write the bill\n",
    "def getBillDetes(bill_id):\n",
    "    bill_url = legisearch_1 + '&op=getBill&id=' + bill_id\n",
    "    getBill = requests.get(bill_url) #Legiscan!\n",
    "    getBill_JSON = getBill.json() #do json stuff i don't really understand\n",
    "    state = getBill_JSON['bill']['state']\n",
    "    name = getBill_JSON['bill']['bill_number']\n",
    "    status_code = str(getBill_JSON['bill']['status'])\n",
    "    try:\n",
    "        status = status_list[status_code]\n",
    "    except:\n",
    "        status = \"Unknown\"\n",
    "    last_action = convertDate(getBill_JSON['bill']['status_date'])\n",
    "    title = getBill_JSON['bill']['title']\n",
    "    link = getBill_JSON['bill']['url']\n",
    "    print(\"-----------------------------------------------\")\n",
    "    print(\"Bill Title:\", title, \"(\" + str(bill_id) + \")\")\n",
    "    print(\"Relevance Score: \" + str(relevance))\n",
    "    print(\"More: \" + str(link))\n",
    "    return([state, name, status, last_action, title, link])"
   ]
  },
  {
   "cell_type": "code",
   "execution_count": null,
   "metadata": {},
   "outputs": [],
   "source": [
    "#used to write bills that did not exist in our list and are reviewed OR are being updated\n",
    "    #uses meToo function to determine the period used\n",
    "def writeBill(state, name, status, last_action, title, link, match, notes):\n",
    "    bills_written.append(bill_id)\n",
    "    writer.writerow({\n",
    "    'bill_id': bill_id, 'match' : match, 'period':meToo(last_action),\n",
    "    'relevance': relevance, 'state': state,\n",
    "    'name': name, 'status': status,\n",
    "    'last_action': last_action, 'title': title,\n",
    "    'link': link, 'change_hash':change_hash_id,\n",
    "    'bill_update': today, 'query_used_latest':query,\n",
    "    'notes':notes}\n",
    "    )"
   ]
  },
  {
   "cell_type": "code",
   "execution_count": null,
   "metadata": {},
   "outputs": [],
   "source": [
    "#Used to write bills that were already in our list and are not being updated. \n",
    "    #Does not use #meToo function to find the period we will clasify it as since we already did that\n",
    "    #instead takes period as input to the function\n",
    "def writeBillComplete(state, name, status, last_action, title, link, match, notes,period):\n",
    "    bills_written.append(bill_id)\n",
    "    writer.writerow({\n",
    "    'bill_id': bill_id, 'match' : match, 'period':period,\n",
    "    'relevance': relevance, 'state': state,\n",
    "    'name': name, 'status': status,\n",
    "    'last_action': last_action, 'title': title,\n",
    "    'link': link, 'change_hash':change_hash_id,\n",
    "    'bill_update': today, 'query_used_latest':query,\n",
    "    'notes':notes}\n",
    "    )"
   ]
  },
  {
   "cell_type": "code",
   "execution_count": null,
   "metadata": {},
   "outputs": [],
   "source": [
    "#determines period we classified it as\n",
    "    #After Oct. 4, 2017 - \"after\" - after NYT story\n",
    "    #also indicates if part of the year prior. This could be used to show the increase in bills IF you've reviewed results from quieries in those periods as well. You can change the year part of the query to gaurantee this\n",
    "def meToo(string_date):\n",
    "    string_date = convertDate(string_date)\n",
    "    if string_date > \"2017-10-04\":\n",
    "        return(\"after\")\n",
    "    elif string_date < \"2017-10-05\" and string_date > \"2016-10-04\":\n",
    "        return(\"1_year_prior\")\n",
    "    elif string_date < \"2016-10-05\" and string_date > \"2015-10-04\":\n",
    "        return(\"2_year_prior\")\n",
    "    else:\n",
    "        return(\"well_before\")"
   ]
  },
  {
   "cell_type": "code",
   "execution_count": null,
   "metadata": {},
   "outputs": [],
   "source": [
    "def getRuling(state, name, status, last_action, title, link): \n",
    "    print(\"Getting ruling...\")\n",
    "    while True:\n",
    "        user_input = input(\"Is this about #MeToo? Type Y, N, M, PN, PY, or Q to quit.\")\n",
    "        if user_input == \"Y\":\n",
    "            print(\">>>>>>>>>>>Yay! A match!\")\n",
    "            break\n",
    "        elif user_input == \"N\":\n",
    "            print(\">>>>>>>>>>>Ope! Sorry! Not about #MeToo...\")\n",
    "            break\n",
    "        elif user_input == \"M\":\n",
    "            print(\">>>>>>>>>>>Marked as Maybe\")\n",
    "            break\n",
    "        elif user_input == \"PN\":\n",
    "            print(\">>>>>>>>>>>Marked as probably not.\")\n",
    "            break\n",
    "        elif user_input == \"PY\":\n",
    "            print(\">>>>>>>>>>>Marked as probably a match\")\n",
    "            break\n",
    "        elif user_input == \"CY\":\n",
    "            print(\">>>>>>>>>>>Marked as a companion bill yes\")\n",
    "            break\n",
    "        elif user_input == \"Q\":\n",
    "            outfile.close()\n",
    "            print(\"-----------------------------------------------\")\n",
    "            print(\"QUITING.... see master_list.csv to see your work.\")\n",
    "            return(False)\n",
    "        else:\n",
    "            print(\"ENTER Y, N, M, PN, PY, or Q to quit!!!\")\n",
    "    notes_input = input(\"Notes: \")\n",
    "    writeBill(state, name, status, last_action, title, link, user_input+\"_NEW\", notes_input)\n",
    "    #writeBill(state, name, status, last_action, title, link, user_input, notes_input) \n",
    "    return(True)"
   ]
  },
  {
   "cell_type": "code",
   "execution_count": null,
   "metadata": {},
   "outputs": [],
   "source": [
    "#convertDate used in meToo function\n",
    "def convertDate(s_date):\n",
    "    date_patterns = [\"%m/%d/%Y\", \"%Y-%m-%d\"]\n",
    "    for pattern in date_patterns:\n",
    "        try:\n",
    "            day = datetime.datetime.strptime(s_date, pattern)\n",
    "            return day.strftime('%Y-%m-%d')\n",
    "        except:\n",
    "            pass"
   ]
  },
  {
   "cell_type": "markdown",
   "metadata": {},
   "source": [
    "### API stuff. "
   ]
  },
  {
   "cell_type": "code",
   "execution_count": null,
   "metadata": {},
   "outputs": [],
   "source": [
    "apikey = \"REMOVED\" \n",
    "legisearch_1 = \"https://api.legiscan.com/?key=\" + apikey\n",
    "#define status \n",
    "status_list = {'1' : 'Introduced',\n",
    "'2' : 'Engrossed',\n",
    "'3' : 'Enrolled',\n",
    "'4' : 'Passed',\n",
    "'5' : 'Vetoed',\n",
    "'6' : 'Failed',\n",
    "'7' : 'Override',\n",
    "'8' : 'Chaptered',\n",
    "'9' : 'Refer',\n",
    "'10' : 'Report Pass',\n",
    "'11' : 'Report DNP',\n",
    "'12' : 'Draft'}"
   ]
  },
  {
   "cell_type": "markdown",
   "metadata": {},
   "source": [
    "# -----GO BLOCK-----\n",
    "## THINGS THAT NEED TO BE RERUN TO RUN A NEW QUERY ARE BELOW\n",
    "### If first search since opening: Click on this cell > Cell > Run all above\n",
    "### To run a search: Click on this cell > Cell > Run all below"
   ]
  },
  {
   "cell_type": "code",
   "execution_count": null,
   "metadata": {},
   "outputs": [],
   "source": [
    "now = datetime.datetime.now()\n",
    "today = now.strftime(\"%Y-%m-%d\")\n",
    "time_stamp = now.strftime(\"%Y-%m-%d-at-%H%M\")\n",
    "existing_file = 'master_list.csv'"
   ]
  },
  {
   "cell_type": "code",
   "execution_count": null,
   "metadata": {},
   "outputs": [],
   "source": [
    "query_input = input(\"What's the query you want to use? Type status:passed after to search for only passed bills.\")\n",
    "query = query_input\n",
    "#query = \"\\\"sexual abuse\\\" status:passed\" #enter query\n",
    "year_input = input(\"How far back do you want to look? 1=all, 2=current, 3=recent, 4=prior, >1900=exact [Default: 2]. TO GET ALL SINCE Oct 2017 you have to use '3' Bills before Oct. 4. 2016 will be skipped.\")\n",
    "year = year_input #Year where 1=all, 2=current, 3=recent, 4=prior, >1900=exact [Default: 2]\n",
    "query_url_encode = urllib.parse.quote_plus(query) #url encode\n",
    "state = input(\"What state? Type the 2 letter abreviation or 'all'\")\n",
    "search_url = legisearch_1 + \"&op=searchRaw&state=\" + state + \"&query=\" + query_url_encode + \"&year=\" + year\n",
    "print(search_url) #this is what will run"
   ]
  },
  {
   "cell_type": "code",
   "execution_count": null,
   "metadata": {},
   "outputs": [],
   "source": [
    "#get list of bills we already have\n",
    "existing = pd.read_csv(existing_file, encoding='utf-8', dtype={'bill_id':'str', 'change_hash':'str'}, index_col = 'change_hash')\n",
    "change_hash_list = existing.index.tolist()\n",
    "bill_id_list = existing['bill_id'].tolist()\n",
    "bill_checker = dict(zip(bill_id_list, change_hash_list))"
   ]
  },
  {
   "cell_type": "code",
   "execution_count": null,
   "metadata": {},
   "outputs": [],
   "source": [
    "r_search = requests.get(search_url) #Legiscan!\n",
    "matching_json = r_search.json() #do json stuff i don't really understand\n",
    "matches = matching_json['searchresult']['results'] #list of results\n",
    "print(matching_json['searchresult']['summary']) #print summary\n",
    "bill_count = matching_json['searchresult']['summary']['count']"
   ]
  },
  {
   "cell_type": "code",
   "execution_count": null,
   "metadata": {
    "scrolled": false
   },
   "outputs": [],
   "source": [
    "#indicatite whether you want to make decisions while the code is running.\n",
    "while True:\n",
    "    print(\"\\n\\nIndicatite whether you want to make decisions while the code is running....\\n\")\n",
    "    print(\"If N, all bills from this search that are not already in the list will be added at the top with TODO or OLD in the match column.\")\n",
    "    print(\"If Y, you will be given the option to quit while reviewing. It skips bills older than oct. 4, 2015.\\n\")\n",
    "    review_question = \"Do you want to review all \" + str(bill_count) + \" bills? Type Y or N.\"\n",
    "    user_input = input(review_question)\n",
    "    if user_input == \"Y\":\n",
    "        print(\">>>>>>>>>>>REVIEWING ALL AS YOU GO. HIT Q TO QUIT when making a decision.\")\n",
    "        review = True\n",
    "        break\n",
    "    elif user_input == \"N\":\n",
    "        print(\">>>>>>>>>>>NOT REVIEWING. All bills from this search that are not already in the list will be added near the top with TODO in the match column.\")\n",
    "        review = False\n",
    "        break\n",
    "    else:\n",
    "        print(review_question)\n",
    "        print(\"ENTER Y for YES or N for NO.\")"
   ]
  },
  {
   "cell_type": "code",
   "execution_count": null,
   "metadata": {
    "scrolled": false
   },
   "outputs": [],
   "source": [
    "with open('master_list.csv', 'w', newline='', encoding='utf-8') as outfile: #w for overwriting, NOT a for appending. \n",
    "    #All bills that are not included in the search will be added using pandas at the end of this script \n",
    "    print(\"Opening file....\")\n",
    "    writer = csv.DictWriter(outfile, fieldnames=['change_hash', 'bill_id', 'match', 'period', 'relevance', 'state', 'name', 'status', 'last_action', 'title', 'link', 'bill_update', 'query_used_latest', 'notes'])\n",
    "    writer.writeheader() \n",
    "    print(\"writing header\")\n",
    "    bill_count = matching_json['searchresult']['summary']['count']\n",
    "    #Create query the will be logged in the file. Provides information about the year and state used in the search and the number of bills it returned.\n",
    "    query = query + \"_YR:\" + str(year) + \"_count:\" + str(bill_count) +\"ST:\" +str(state)\n",
    "    #The script will only deal with the first 2,000 results in a search. If longer, consider changing the query\n",
    "    if bill_count > 2000:\n",
    "        bill_count = 2000\n",
    "        print(\"!!!!!!!!!!!!!!!!!!!!!!!!!!!!!!!!!!!!!!!!!!!!!!!!\")\n",
    "        print(\"Does not support results after 2000, change the page in the legiscan API search query using '&page=' if necessary\")\n",
    "    else: \n",
    "        bill_count = bill_count\n",
    "    #bills_written keeps track of what we've written so there's no overlap in resulting file. At the end, write every bill that is not in this list.\n",
    "    bills_written = [] \n",
    "    ruling = True #this can be changed to false in the getRuling function in order to exit loop by entering 'Q'\n",
    "    for i in range(0,bill_count): #for each bill in search result\n",
    "        print(\"-----------------------------------------------\")\n",
    "        print(\"Result: \", i)\n",
    "        relevance = matches[i]['relevance'] #How well that bill might match to your query\n",
    "        bill_id = str(matches[i]['bill_id']) #Provided by Legiscan\n",
    "        change_hash_id = str(matches[i]['change_hash']) #Used to detect changes to bills, update\n",
    "        #If bill has not been reviewed and therefore is not in master_list.csv\n",
    "        if not (bill_id in bill_id_list): #if has not been found in a previous search\n",
    "            detes = getBillDetes(bill_id) #get details like bill name, title, status, etc\n",
    "            last_action = convertDate(detes[3]) #convert to YYYY-MM-DD\n",
    "            print(\"State: \", detes[0])\n",
    "            print(\"Status: \", detes[2])\n",
    "            if last_action < \"2016-10-04\": #if more than a year before the NYT story \n",
    "                print(\"Skipping because OLD (before 2016-10-04) and writing OLD to indicate not reviewed and it matches...\")\n",
    "                writeBill(detes[0], detes[1], detes[2], last_action, detes[4], detes[5], \"OLD\", \"Not reviewed initially\")\n",
    "            elif review == False:\n",
    "                print(\"Skipping, but writing TODO to indicate not reviewed and it matches and is not too old (before 2016-10-04)...\")\n",
    "                writeBill(detes[0], detes[1], detes[2], last_action, detes[4], detes[5], \"TODO\", \"Not reviewed initially\")\n",
    "            else:\n",
    "                ruling = getRuling(detes[0], detes[1], detes[2], last_action, detes[4], detes[5])\n",
    "            if ruling is False: break #if 'Q' was entered, break and write all bills that are not already written\n",
    "        elif bill_checker[bill_id] != change_hash_id: #if needs updating\n",
    "            print(\"Update needed on\", bill_id, \"..................UPDATING.................\")\n",
    "            detes = getBillDetes(bill_id)\n",
    "            writeBill(detes[0], detes[1], detes[2], detes[3], detes[4], detes[5], existing.at[bill_checker[bill_id], 'match'], (existing.at[bill_checker[bill_id], 'notes']))\n",
    "            print(\"Updated\", bill_id + \".\")\n",
    "        else: #already existed as is\n",
    "            print(\"You already handled\", bill_id, \"and there is no need to update. If you need to change decision, edit in a spreadsheet.\")\n",
    "            #rewrite row\n",
    "            writeBillComplete(existing.at[change_hash_id, 'state'], existing.at[change_hash_id, 'name'], \n",
    "                      existing.at[change_hash_id, 'status'], existing.at[change_hash_id, 'last_action'], \n",
    "                      existing.at[change_hash_id, 'title'], existing.at[change_hash_id, 'link'], \n",
    "                      existing.at[change_hash_id, 'match'], existing.at[change_hash_id, 'notes'], existing.at[change_hash_id, 'period'])\n",
    "outfile.close()\n",
    "#Write every bill that hasn't been written yet \n",
    "existing_left = existing.loc[~existing['bill_id'].isin(bills_written)]\n",
    "with open('master_list.csv', 'a', encoding='utf-8') as outfile2:\n",
    "    existing_left.to_csv(outfile2, encoding='utf-8', header=False)\n",
    "outfile2.close()\n",
    "copyfile('master_list.csv', 'master_list' + time_stamp + '.csv') #copies original file as original_..."
   ]
  }
 ],
 "metadata": {
  "kernelspec": {
   "display_name": "Python 3",
   "language": "python",
   "name": "python3"
  },
  "language_info": {
   "codemirror_mode": {
    "name": "ipython",
    "version": 3
   },
   "file_extension": ".py",
   "mimetype": "text/x-python",
   "name": "python",
   "nbconvert_exporter": "python",
   "pygments_lexer": "ipython3",
   "version": "3.6.5"
  }
 },
 "nbformat": 4,
 "nbformat_minor": 2
}
